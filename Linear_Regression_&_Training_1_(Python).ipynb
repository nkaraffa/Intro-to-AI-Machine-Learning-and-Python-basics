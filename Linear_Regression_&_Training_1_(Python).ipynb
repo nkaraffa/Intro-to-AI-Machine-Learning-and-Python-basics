{
  "nbformat": 4,
  "nbformat_minor": 0,
  "metadata": {
    "colab": {
      "name": "Linear Regression & Training 1 (Python)",
      "provenance": [],
      "collapsed_sections": [],
      "toc_visible": true,
      "authorship_tag": "ABX9TyNVfco8ctMNTVz95kRXqb1Q",
      "include_colab_link": true
    },
    "kernelspec": {
      "name": "python3",
      "display_name": "Python 3"
    },
    "language_info": {
      "name": "python"
    }
  },
  "cells": [
    {
      "cell_type": "markdown",
      "metadata": {
        "id": "view-in-github",
        "colab_type": "text"
      },
      "source": [
        "<a href=\"https://colab.research.google.com/github/nkaraffa/Intro-to-AI-Machine-Learning-and-Python-basics/blob/main/Linear_Regression_%26_Training_1_(Python).ipynb\" target=\"_parent\"><img src=\"https://colab.research.google.com/assets/colab-badge.svg\" alt=\"Open In Colab\"/></a>"
      ]
    },
    {
      "cell_type": "markdown",
      "metadata": {
        "id": "Waf9wkvYUcIn"
      },
      "source": [
        "# **Regression Analysis in Python**\n",
        "\n",
        "\n",
        "*   Y = m * x + b\n",
        "\n",
        "\n",
        "---\n",
        "\n",
        "\n"
      ]
    },
    {
      "cell_type": "markdown",
      "metadata": {
        "id": "D2jyCQqwc7-S"
      },
      "source": [
        "**Regression Analysis (known area & price)**\n",
        "\n",
        "---\n",
        "\n"
      ]
    },
    {
      "cell_type": "markdown",
      "metadata": {
        "id": "iXXGT6OAb-EA"
      },
      "source": [
        "**Prepare data - import required tools**"
      ]
    },
    {
      "cell_type": "code",
      "metadata": {
        "id": "FqUlXIDxUS-Q"
      },
      "source": [
        "# Import libraries and modules needed for the Regession Analysis\n",
        "\n",
        "import pandas as pd\n",
        "import numpy as np\n",
        "import matplotlib.pyplot as plt\n",
        "from sklearn import linear_model"
      ],
      "execution_count": 3,
      "outputs": []
    },
    {
      "cell_type": "code",
      "metadata": {
        "id": "E1wHqDdHVgy0"
      },
      "source": [
        "# upload and visual data from an external source (Excel)\n",
        "\n",
        "df = pd.read_excel(\"price1.xlsx\")     \n",
        "\n",
        "# Note:  if you have a .csv file use the code df=pd.read_csv(\"FileName\")\n",
        "\n",
        "df"
      ],
      "execution_count": null,
      "outputs": []
    },
    {
      "cell_type": "markdown",
      "metadata": {
        "id": "I7YZlCJ_cJIo"
      },
      "source": [
        "**Visualize Data**"
      ]
    },
    {
      "cell_type": "code",
      "metadata": {
        "id": "xZmd0O26Wxlx"
      },
      "source": [
        "# Visualize the data on a chart\n",
        "\n",
        "%matplotlib inline\n",
        "plt.scatter (df.area, df.price, color = 'blue', marker = '^')     # scatter syntax:  (x-axis, y-axis)\n",
        "\n",
        "plt.xlabel(\"area (Sq Meters)\")      # Add graph labels\n",
        "plt.ylabel(\"price (Mil $)\")"
      ],
      "execution_count": null,
      "outputs": []
    },
    {
      "cell_type": "markdown",
      "metadata": {
        "id": "azioiW3hcPZI"
      },
      "source": [
        "**Linear Regression Instantiation & Training**"
      ]
    },
    {
      "cell_type": "code",
      "metadata": {
        "id": "9TPw-kcaX9CV"
      },
      "source": [
        "# Linear Regression Model Creation\n",
        "\n",
        "reg = linear_model.LinearRegression()"
      ],
      "execution_count": 93,
      "outputs": []
    },
    {
      "cell_type": "code",
      "metadata": {
        "colab": {
          "base_uri": "https://localhost:8080/"
        },
        "id": "YzE9bdS4YM74",
        "outputId": "e061a0b9-cc14-4e0d-e4d3-50ced9651194"
      },
      "source": [
        "# Training the regression model on the Excel Data\n",
        "\n",
        "reg.fit(df[['area']], df.price)     # Call regression variable then pass the Excel variable for input"
      ],
      "execution_count": 94,
      "outputs": [
        {
          "output_type": "execute_result",
          "data": {
            "text/plain": [
              "LinearRegression(copy_X=True, fit_intercept=True, n_jobs=None, normalize=False)"
            ]
          },
          "metadata": {
            "tags": []
          },
          "execution_count": 94
        }
      ]
    },
    {
      "cell_type": "markdown",
      "metadata": {
        "id": "bUjLfngScbve"
      },
      "source": [
        "**Linear Regression Prediction**"
      ]
    },
    {
      "cell_type": "code",
      "metadata": {
        "colab": {
          "base_uri": "https://localhost:8080/"
        },
        "id": "gwhiZgZ6Yxqx",
        "outputId": "9bac4eb7-328b-479e-e065-4a733c870097"
      },
      "source": [
        "# Regression Model Prediction - predict housing cost by area\n",
        "\n",
        "reg.predict([[120]])    # 120 sq. meter housing cost"
      ],
      "execution_count": 95,
      "outputs": [
        {
          "output_type": "execute_result",
          "data": {
            "text/plain": [
              "array([9.38902671])"
            ]
          },
          "metadata": {
            "tags": []
          },
          "execution_count": 95
        }
      ]
    },
    {
      "cell_type": "code",
      "metadata": {
        "id": "Zpvn0CYs5fAE"
      },
      "source": [
        "reg.predict([[60]])    # 60 sq. meter housing cost"
      ],
      "execution_count": null,
      "outputs": []
    },
    {
      "cell_type": "code",
      "metadata": {
        "colab": {
          "base_uri": "https://localhost:8080/"
        },
        "id": "tMC5q9mtZl-D",
        "outputId": "5a5cbc9f-6e53-4fee-b9c2-70e75de86e5d"
      },
      "source": [
        "# Linear Regression Coefficients (Y = m * x + b)\n",
        "\n",
        "reg.coef_           # value of 'm'"
      ],
      "execution_count": 96,
      "outputs": [
        {
          "output_type": "execute_result",
          "data": {
            "text/plain": [
              "array([0.07148238])"
            ]
          },
          "metadata": {
            "tags": []
          },
          "execution_count": 96
        }
      ]
    },
    {
      "cell_type": "code",
      "metadata": {
        "colab": {
          "base_uri": "https://localhost:8080/"
        },
        "id": "DsDf_OA1Z_lL",
        "outputId": "741401f0-26b9-4736-f4bb-0024af7280f5"
      },
      "source": [
        "reg.intercept_      # value of 'b'"
      ],
      "execution_count": 97,
      "outputs": [
        {
          "output_type": "execute_result",
          "data": {
            "text/plain": [
              "0.8111407046647905"
            ]
          },
          "metadata": {
            "tags": []
          },
          "execution_count": 97
        }
      ]
    },
    {
      "cell_type": "markdown",
      "metadata": {
        "id": "vXBW3CpCaO1_"
      },
      "source": [
        "Price = 0.07148238 * Area + 0.8111407046647905"
      ]
    },
    {
      "cell_type": "markdown",
      "metadata": {
        "id": "-8dxstLmcm5W"
      },
      "source": [
        "**Re-visualize Data with Regression Line**"
      ]
    },
    {
      "cell_type": "code",
      "metadata": {
        "id": "pP2r0OKIatyZ"
      },
      "source": [
        "# Visualize the data on a chart\n",
        "\n",
        "%matplotlib inline\n",
        "plt.scatter (df.area, df.price, color = 'blue', marker = '^')     # scatter syntax:  (x-axis, y-axis)\n",
        "\n",
        "plt.xlabel(\"area (Sq Meters)\")      # Add graph labels\n",
        "plt.ylabel(\"price (Mil $)\")\n",
        "plt.plot(df.area, reg.predict(df[['area']]))      # Display precicted linear regression"
      ],
      "execution_count": null,
      "outputs": []
    },
    {
      "cell_type": "markdown",
      "metadata": {
        "id": "PgAuh8Oobh3i"
      },
      "source": [
        "**Regression Analysis (Known area &  Unknown price)**\n",
        "\n",
        "---\n",
        "\n"
      ]
    },
    {
      "cell_type": "markdown",
      "metadata": {
        "id": "Jz4DhadTeQJX"
      },
      "source": [
        "**Prepare data - import required tools**"
      ]
    },
    {
      "cell_type": "code",
      "metadata": {
        "id": "mA81wcs-bM0O"
      },
      "source": [
        "pred = pd.read_excel(\"prediction_price.xlsx\")"
      ],
      "execution_count": 28,
      "outputs": []
    },
    {
      "cell_type": "code",
      "metadata": {
        "colab": {
          "base_uri": "https://localhost:8080/",
          "height": 136
        },
        "id": "YfWlWPw3eVk0",
        "outputId": "55ae7473-b43c-4086-ab6f-e052c87c353e"
      },
      "source": [
        "pred.head(3)      # Head allows you to ONLY display selected rows"
      ],
      "execution_count": 29,
      "outputs": [
        {
          "output_type": "execute_result",
          "data": {
            "text/html": [
              "<div>\n",
              "<style scoped>\n",
              "    .dataframe tbody tr th:only-of-type {\n",
              "        vertical-align: middle;\n",
              "    }\n",
              "\n",
              "    .dataframe tbody tr th {\n",
              "        vertical-align: top;\n",
              "    }\n",
              "\n",
              "    .dataframe thead th {\n",
              "        text-align: right;\n",
              "    }\n",
              "</style>\n",
              "<table border=\"1\" class=\"dataframe\">\n",
              "  <thead>\n",
              "    <tr style=\"text-align: right;\">\n",
              "      <th></th>\n",
              "      <th>area</th>\n",
              "    </tr>\n",
              "  </thead>\n",
              "  <tbody>\n",
              "    <tr>\n",
              "      <th>0</th>\n",
              "      <td>25</td>\n",
              "    </tr>\n",
              "    <tr>\n",
              "      <th>1</th>\n",
              "      <td>37</td>\n",
              "    </tr>\n",
              "    <tr>\n",
              "      <th>2</th>\n",
              "      <td>40</td>\n",
              "    </tr>\n",
              "  </tbody>\n",
              "</table>\n",
              "</div>"
            ],
            "text/plain": [
              "   area\n",
              "0    25\n",
              "1    37\n",
              "2    40"
            ]
          },
          "metadata": {
            "tags": []
          },
          "execution_count": 29
        }
      ]
    },
    {
      "cell_type": "markdown",
      "metadata": {
        "id": "i8KfhTqve3gz"
      },
      "source": [
        "**Linear Regression Prediction**"
      ]
    },
    {
      "cell_type": "code",
      "metadata": {
        "id": "Ktx9poFGekSU"
      },
      "source": [
        "p = reg.predict(pred)       # Using the regression variable from above to make a prediction"
      ],
      "execution_count": 32,
      "outputs": []
    },
    {
      "cell_type": "markdown",
      "metadata": {
        "id": "q0avsdgheCmD"
      },
      "source": [
        "**Visualize Data with Predicted Prices**"
      ]
    },
    {
      "cell_type": "code",
      "metadata": {
        "colab": {
          "base_uri": "https://localhost:8080/",
          "height": 373
        },
        "id": "s_nTTI9Ye-5a",
        "outputId": "07332f09-468e-4ec8-8894-617132913ecb"
      },
      "source": [
        "pred['predicted prices'] = p      # Label the new Column\n",
        "\n",
        "pred        # Display the new column"
      ],
      "execution_count": 33,
      "outputs": [
        {
          "output_type": "execute_result",
          "data": {
            "text/html": [
              "<div>\n",
              "<style scoped>\n",
              "    .dataframe tbody tr th:only-of-type {\n",
              "        vertical-align: middle;\n",
              "    }\n",
              "\n",
              "    .dataframe tbody tr th {\n",
              "        vertical-align: top;\n",
              "    }\n",
              "\n",
              "    .dataframe thead th {\n",
              "        text-align: right;\n",
              "    }\n",
              "</style>\n",
              "<table border=\"1\" class=\"dataframe\">\n",
              "  <thead>\n",
              "    <tr style=\"text-align: right;\">\n",
              "      <th></th>\n",
              "      <th>area</th>\n",
              "      <th>predicted prices</th>\n",
              "    </tr>\n",
              "  </thead>\n",
              "  <tbody>\n",
              "    <tr>\n",
              "      <th>0</th>\n",
              "      <td>25</td>\n",
              "      <td>2.598200</td>\n",
              "    </tr>\n",
              "    <tr>\n",
              "      <th>1</th>\n",
              "      <td>37</td>\n",
              "      <td>3.455989</td>\n",
              "    </tr>\n",
              "    <tr>\n",
              "      <th>2</th>\n",
              "      <td>40</td>\n",
              "      <td>3.670436</td>\n",
              "    </tr>\n",
              "    <tr>\n",
              "      <th>3</th>\n",
              "      <td>58</td>\n",
              "      <td>4.957119</td>\n",
              "    </tr>\n",
              "    <tr>\n",
              "      <th>4</th>\n",
              "      <td>61</td>\n",
              "      <td>5.171566</td>\n",
              "    </tr>\n",
              "    <tr>\n",
              "      <th>5</th>\n",
              "      <td>67</td>\n",
              "      <td>5.600460</td>\n",
              "    </tr>\n",
              "    <tr>\n",
              "      <th>6</th>\n",
              "      <td>72</td>\n",
              "      <td>5.957872</td>\n",
              "    </tr>\n",
              "    <tr>\n",
              "      <th>7</th>\n",
              "      <td>85</td>\n",
              "      <td>6.887143</td>\n",
              "    </tr>\n",
              "    <tr>\n",
              "      <th>8</th>\n",
              "      <td>96</td>\n",
              "      <td>7.673450</td>\n",
              "    </tr>\n",
              "    <tr>\n",
              "      <th>9</th>\n",
              "      <td>105</td>\n",
              "      <td>8.316791</td>\n",
              "    </tr>\n",
              "    <tr>\n",
              "      <th>10</th>\n",
              "      <td>118</td>\n",
              "      <td>9.246062</td>\n",
              "    </tr>\n",
              "  </tbody>\n",
              "</table>\n",
              "</div>"
            ],
            "text/plain": [
              "    area  predicted prices\n",
              "0     25          2.598200\n",
              "1     37          3.455989\n",
              "2     40          3.670436\n",
              "3     58          4.957119\n",
              "4     61          5.171566\n",
              "5     67          5.600460\n",
              "6     72          5.957872\n",
              "7     85          6.887143\n",
              "8     96          7.673450\n",
              "9    105          8.316791\n",
              "10   118          9.246062"
            ]
          },
          "metadata": {
            "tags": []
          },
          "execution_count": 33
        }
      ]
    },
    {
      "cell_type": "markdown",
      "metadata": {
        "id": "OkmQwkfpfmex"
      },
      "source": [
        "**Save the new predicted prices to Excel**"
      ]
    },
    {
      "cell_type": "code",
      "metadata": {
        "id": "FlqQ92-yfmvi"
      },
      "source": [
        "pred.to_excel('new prediction.xlsx')      # Save the Excel in the Colab files"
      ],
      "execution_count": 35,
      "outputs": []
    },
    {
      "cell_type": "markdown",
      "metadata": {
        "id": "ukeM3vO9gf1M"
      },
      "source": [
        "# **Challenge**\n",
        "\n",
        "\n",
        "*   \"Find the correlation between the GDP of Russia and oil prices based on historal data\"\n",
        "\n",
        "            Display, Train, Predict values\n",
        "\n",
        "            GDP = m * (Oil-Price) + b\n",
        " \n",
        "\n",
        "---\n",
        "\n",
        "\n"
      ]
    },
    {
      "cell_type": "code",
      "metadata": {
        "id": "oRf7INaFgz60"
      },
      "source": [
        "# Load and Prepare Data for use\n",
        "pGDP = pd.read_excel(\"gdprussia.xlsx\")\n",
        "\n",
        "pGDP.head()       #Only display top values (to save space)"
      ],
      "execution_count": null,
      "outputs": []
    },
    {
      "cell_type": "code",
      "metadata": {
        "id": "Q7Zjb-tH4qPe"
      },
      "source": [
        "# Display Data\n",
        "%matplotlib inline\n",
        "plt.scatter (pGDP.oilprice, pGDP.gdp, color = 'blue', marker = '*')     # scatter syntax:  (x-axis, y-axis)\n",
        "\n",
        "plt.xlabel(\"Oil Price ($)\")      # Add graph labels\n",
        "plt.ylabel(\"GDP ($)\")"
      ],
      "execution_count": null,
      "outputs": []
    },
    {
      "cell_type": "code",
      "metadata": {
        "id": "xyhc5Hv72SAl"
      },
      "source": [
        "# Linear Regression Model Creation\n",
        "reg2 = linear_model.LinearRegression()\n",
        "\n",
        "# Training the regression model on the Excel Data\n",
        "reg2.fit(pGDP[['oilprice']], pGDP.gdp)     # Call regression variable then pass the Excel variable for input"
      ],
      "execution_count": null,
      "outputs": []
    },
    {
      "cell_type": "markdown",
      "metadata": {
        "id": "WEtYyZnq_8H-"
      },
      "source": [
        "**Linear Regression Prediction**"
      ]
    },
    {
      "cell_type": "code",
      "metadata": {
        "id": "6tYKtJU43TOo"
      },
      "source": [
        "# Model Prediction for GDP based on given Oil Price\n",
        "reg2.predict([[71]])"
      ],
      "execution_count": null,
      "outputs": []
    },
    {
      "cell_type": "code",
      "metadata": {
        "id": "WtXYEF0Z_UQh"
      },
      "source": [
        "# Model Prediction for GDP for all oil-prices\n",
        "reg2.predict(pGDP[['oilprice']])"
      ],
      "execution_count": null,
      "outputs": []
    },
    {
      "cell_type": "markdown",
      "metadata": {
        "id": "fcjfgjbe9dud"
      },
      "source": [
        "**Regression Equation**"
      ]
    },
    {
      "cell_type": "code",
      "metadata": {
        "id": "7WA6RJ3R9J-b"
      },
      "source": [
        "reg2.coef_"
      ],
      "execution_count": null,
      "outputs": []
    },
    {
      "cell_type": "code",
      "metadata": {
        "id": "6XuiLzGC9OF4"
      },
      "source": [
        "reg2.intercept_"
      ],
      "execution_count": null,
      "outputs": []
    },
    {
      "cell_type": "markdown",
      "metadata": {
        "id": "drM_sngJ9QzT"
      },
      "source": [
        "GPD = 17.51154086 * (Oil price) + 196.33383624928683"
      ]
    },
    {
      "cell_type": "code",
      "metadata": {
        "colab": {
          "base_uri": "https://localhost:8080/",
          "height": 296
        },
        "id": "t337KLve67L_",
        "outputId": "fbd83a61-6c3a-49f5-fd30-d5e7ef268167"
      },
      "source": [
        "# Re-Display data with Regression Line\n",
        "\n",
        "%matplotlib inline\n",
        "plt.scatter (pGDP.oilprice, pGDP.gdp, color = 'red', marker = '*')     # scatter syntax:  (x-axis, y-axis)\n",
        "\n",
        "plt.xlabel(\"Oil Price ($)\")      # Add graph labels\n",
        "plt.ylabel(\"GDP ($)\")\n",
        "\n",
        "plt.plot(pGDP.oilprice , reg2.predict(pGDP[['oilprice']]))      # Display precicted linear regression"
      ],
      "execution_count": 113,
      "outputs": [
        {
          "output_type": "execute_result",
          "data": {
            "text/plain": [
              "[<matplotlib.lines.Line2D at 0x7f01c3400590>]"
            ]
          },
          "metadata": {
            "tags": []
          },
          "execution_count": 113
        },
        {
          "output_type": "display_data",
          "data": {
            "image/png": "[encoded data removed]",
            "text/plain": [
              "<Figure size 432x288 with 1 Axes>"
            ]
          },
          "metadata": {
            "tags": [],
            "needs_background": "light"
          }
        }
      ]
    },
    {
      "cell_type": "markdown",
      "metadata": {
        "id": "wX5Mfw79AWhG"
      },
      "source": [
        "**Prediction based on two-factors (year & oil-price)**\n",
        "\n",
        "---\n",
        "\n"
      ]
    },
    {
      "cell_type": "code",
      "metadata": {
        "colab": {
          "base_uri": "https://localhost:8080/"
        },
        "id": "51efE_o4Afxe",
        "outputId": "4fb45a21-2e1a-437c-fc9a-ac62363c909f"
      },
      "source": [
        "# Linear Regression Model Creation\n",
        "reg3 = linear_model.LinearRegression()\n",
        "\n",
        "# Training the regression model on the Excel Data\n",
        "reg3.fit(pGDP[['year' , 'oilprice']], pGDP.gdp)     # Call regression variable then pass the Excel variable for input"
      ],
      "execution_count": 126,
      "outputs": [
        {
          "output_type": "execute_result",
          "data": {
            "text/plain": [
              "LinearRegression(copy_X=True, fit_intercept=True, n_jobs=None, normalize=False)"
            ]
          },
          "metadata": {
            "tags": []
          },
          "execution_count": 126
        }
      ]
    },
    {
      "cell_type": "code",
      "metadata": {
        "colab": {
          "base_uri": "https://localhost:8080/"
        },
        "id": "DspJSifSArl7",
        "outputId": "e4eb8783-9bab-4b13-a7a1-3592cc70b28a"
      },
      "source": [
        "# Model Prediction for GDP for all years & oil-prices\n",
        "\n",
        "reg3.predict(pGDP[['year' , 'oilprice']])"
      ],
      "execution_count": 127,
      "outputs": [
        {
          "output_type": "execute_result",
          "data": {
            "text/plain": [
              "array([1825.73114636, 1494.80416625, 1264.3667999 , 1354.64096684,\n",
              "       2067.91784565, 2170.19813666, 2166.23245305, 2105.85443307,\n",
              "       1528.39074095, 1178.55000374, 1707.62333522, 1250.71428612,\n",
              "       1074.88011416,  843.45594309,  521.24573798])"
            ]
          },
          "metadata": {
            "tags": []
          },
          "execution_count": 127
        }
      ]
    },
    {
      "cell_type": "code",
      "metadata": {
        "colab": {
          "base_uri": "https://localhost:8080/"
        },
        "id": "4K-bkcERA4A_",
        "outputId": "eeaed409-dc34-4c33-ec5a-80ecc95f54f1"
      },
      "source": [
        "# Model Prediction for GDP based on given Year & Oil Price\n",
        "\n",
        "reg3.predict([[2018, 71]])"
      ],
      "execution_count": 128,
      "outputs": [
        {
          "output_type": "execute_result",
          "data": {
            "text/plain": [
              "array([1824.74434165])"
            ]
          },
          "metadata": {
            "tags": []
          },
          "execution_count": 128
        }
      ]
    }
  ]
}