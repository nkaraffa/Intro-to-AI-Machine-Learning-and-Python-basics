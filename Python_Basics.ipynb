{
  "nbformat": 4,
  "nbformat_minor": 0,
  "metadata": {
    "colab": {
      "name": "Python Basics.ipynb",
      "provenance": [],
      "collapsed_sections": [],
      "authorship_tag": "ABX9TyMiwloQN+hlpFQU7TfTU/YC",
      "include_colab_link": true
    },
    "kernelspec": {
      "name": "python3",
      "display_name": "Python 3"
    },
    "language_info": {
      "name": "python"
    }
  },
  "cells": [
    {
      "cell_type": "markdown",
      "metadata": {
        "id": "view-in-github",
        "colab_type": "text"
      },
      "source": [
        "<a href=\"https://colab.research.google.com/github/nkaraffa/Intro-to-AI-Machine-Learning-and-Python-basics/blob/main/Python_Basics.ipynb\" target=\"_parent\"><img src=\"https://colab.research.google.com/assets/colab-badge.svg\" alt=\"Open In Colab\"/></a>"
      ]
    },
    {
      "cell_type": "markdown",
      "metadata": {
        "id": "ylWQqNGyP-Wl"
      },
      "source": [
        "# **Python Basics**"
      ]
    },
    {
      "cell_type": "code",
      "metadata": {
        "id": "hlrvAZZVLuI7",
        "colab": {
          "base_uri": "https://localhost:8080/"
        },
        "outputId": "68fdf220-296e-44ab-c7e6-46418d1b5165"
      },
      "source": [
        "# You can write comments using the \"#\" symbol\n",
        "\n",
        "# You can execute code by pressing 'Shift + Enter' or pressing the play button\n",
        "print (\"Hello World\")\n",
        "\n",
        "# Basic arthimetic can be completed using artimetic operators like + , - , * , etc.\n",
        "10 + 20"
      ],
      "execution_count": 5,
      "outputs": [
        {
          "output_type": "stream",
          "text": [
            "Hello World\n"
          ],
          "name": "stdout"
        },
        {
          "output_type": "execute_result",
          "data": {
            "text/plain": [
              "30"
            ]
          },
          "metadata": {
            "tags": []
          },
          "execution_count": 5
        }
      ]
    },
    {
      "cell_type": "markdown",
      "metadata": {
        "id": "X42SdKnpPzDs"
      },
      "source": [
        "# **Declaring Variables**"
      ]
    },
    {
      "cell_type": "code",
      "metadata": {
        "colab": {
          "base_uri": "https://localhost:8080/"
        },
        "id": "FYg241YiPiCY",
        "outputId": "8d54b97b-d418-43c0-c4e4-f743d9b2e844"
      },
      "source": [
        "# Declaring Variables - Python is a dynamic type language\n",
        "\n",
        "# In Python you do not need to explictly declare variable type\n",
        "a =  \"Hello World\"\n",
        "print (a)\n",
        "\n",
        "b = 10\n",
        "c = 20\n",
        "\n",
        "print (b+c)"
      ],
      "execution_count": 6,
      "outputs": [
        {
          "output_type": "stream",
          "text": [
            "Hello World\n",
            "30\n"
          ],
          "name": "stdout"
        }
      ]
    },
    {
      "cell_type": "markdown",
      "metadata": {
        "id": "nrCKwWDgQX-X"
      },
      "source": [
        "# **Comparing variables - Boolean Comparisions**"
      ]
    },
    {
      "cell_type": "code",
      "metadata": {
        "id": "5_KZIHmMQHHX"
      },
      "source": [
        "# Very simple to compare values in Python\n",
        "\n",
        "# Is b less than c\n",
        "print (b < c)\n",
        "\n",
        "# Is b greater than or equal to c\n",
        "print (b >= c)\n",
        "\n",
        "# Is b equal to c\n",
        "print (b == c)\n",
        "\n",
        "# Is b not equal to c\n",
        "print (b != c)"
      ],
      "execution_count": null,
      "outputs": []
    },
    {
      "cell_type": "markdown",
      "metadata": {
        "id": "wRs3Z6b8RX-R"
      },
      "source": [
        "# **Basic Types of Objects**\n",
        "\n",
        "Immutable (unable to be change)\n",
        "*   int  (integer)\n",
        "*   float\n",
        "*   bool\n",
        "*   str  (string)\n",
        "\n",
        "\n",
        "Immutable (able to be changed or modified)\n",
        "\n",
        "*   list\n",
        "*   set\n",
        "*   dict  (dictionary)\n",
        "\n",
        "\n",
        "\n",
        "\n",
        "\n",
        "\n",
        "\n"
      ]
    },
    {
      "cell_type": "code",
      "metadata": {
        "colab": {
          "base_uri": "https://localhost:8080/"
        },
        "id": "ygp5RAKtQvf3",
        "outputId": "86a98c01-7a5d-46d1-b2d1-5e0580d52b50"
      },
      "source": [
        "d = 1234\n",
        "type (d)      #returns the type of the variable\n",
        "\n",
        "type (a)\n",
        "\n",
        "d = 12.34\n",
        "type (d)\n",
        "\n",
        "d = true\n",
        "type (d)"
      ],
      "execution_count": 11,
      "outputs": [
        {
          "output_type": "execute_result",
          "data": {
            "text/plain": [
              "str"
            ]
          },
          "metadata": {
            "tags": []
          },
          "execution_count": 11
        }
      ]
    },
    {
      "cell_type": "markdown",
      "metadata": {
        "id": "yjOy8g3qTM2u"
      },
      "source": [
        "# **Output Formatting**"
      ]
    },
    {
      "cell_type": "code",
      "metadata": {
        "colab": {
          "base_uri": "https://localhost:8080/"
        },
        "id": "RaY463XHTRfh",
        "outputId": "62701deb-390d-49fb-e99d-7cc4829ab8df"
      },
      "source": [
        "# Simple printing - call the variable name \n",
        "name = \"John Doe\"\n",
        "print (\"Hello \" + name )\n",
        "\n",
        "# Using 'format' to call and print the variable\n",
        "print (f\"Hello {name}\")\n",
        "print(\"Hello {}\".format(name))"
      ],
      "execution_count": 15,
      "outputs": [
        {
          "output_type": "stream",
          "text": [
            "Hello John Doe\n",
            "Hello John Doe\n",
            "Hello John Doe\n"
          ],
          "name": "stdout"
        }
      ]
    },
    {
      "cell_type": "markdown",
      "metadata": {
        "id": "xRbnCoj8ULmf"
      },
      "source": [
        "# **Checking Python Version** "
      ]
    },
    {
      "cell_type": "code",
      "metadata": {
        "colab": {
          "base_uri": "https://localhost:8080/"
        },
        "id": "7XGzLz9TUR0d",
        "outputId": "f7ff6aff-81cb-451a-d833-7dcfb52d0e77"
      },
      "source": [
        "import sys\n",
        "print (sys.version)"
      ],
      "execution_count": 19,
      "outputs": [
        {
          "output_type": "stream",
          "text": [
            "3.7.10 (default, Feb 20 2021, 21:17:23) \n",
            "[GCC 7.5.0]\n"
          ],
          "name": "stdout"
        }
      ]
    }
  ]
}