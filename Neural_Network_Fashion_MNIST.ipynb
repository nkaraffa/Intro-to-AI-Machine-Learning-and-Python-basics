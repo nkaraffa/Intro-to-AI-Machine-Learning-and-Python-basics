{
  "nbformat": 4,
  "nbformat_minor": 0,
  "metadata": {
    "colab": {
      "name": "Neural Network - Fashion MNIST.ipynb",
      "provenance": [],
      "collapsed_sections": [],
      "authorship_tag": "ABX9TyOuNQCJ0CMzaxN/V44n+4jg",
      "include_colab_link": true
    },
    "kernelspec": {
      "name": "python3",
      "display_name": "Python 3"
    },
    "language_info": {
      "name": "python"
    }
  },
  "cells": [
    {
      "cell_type": "markdown",
      "metadata": {
        "id": "view-in-github",
        "colab_type": "text"
      },
      "source": [
        "<a href=\"https://colab.research.google.com/github/nkaraffa/Intro-to-AI-Machine-Learning-and-Python-basics/blob/main/Neural_Network_Fashion_MNIST.ipynb\" target=\"_parent\"><img src=\"https://colab.research.google.com/assets/colab-badge.svg\" alt=\"Open In Colab\"/></a>"
      ]
    },
    {
      "cell_type": "markdown",
      "metadata": {
        "id": "6yJHA6uEXncg"
      },
      "source": [
        "# **Neural Network - Fashion MNIST Problem**\n",
        "\n",
        "> Use a neural network to determine fashion items\n",
        "\n",
        "*   Import Fashion MNIST dataset\n",
        "*   Train neural network to recognize images\n",
        "*   Test neural network\n",
        "\n",
        "Source:\n",
        "*   https://www.kaggle.com/zalando-research/fashionmnist\n",
        "\n"
      ]
    },
    {
      "cell_type": "markdown",
      "metadata": {
        "id": "EsF2Iny-dbuI"
      },
      "source": [
        "**Import Libraries and Tools**"
      ]
    },
    {
      "cell_type": "code",
      "metadata": {
        "id": "ITLoynI2Q7jR"
      },
      "source": [
        "# Import libraries and tools\n",
        "\n",
        "import numpy as np\n",
        "import tensorflow as tf\n",
        "import matplotlib.pyplot as plt\n",
        "%matplotlib inline\n",
        "\n",
        "from tensorflow import keras\n",
        "from tensorflow.keras.datasets import fashion_mnist\n",
        "from tensorflow.keras.models import Sequential\n",
        "from tensorflow.keras.layers import Dense, Dropout\n",
        "from tensorflow.keras import utils"
      ],
      "execution_count": 2,
      "outputs": []
    },
    {
      "cell_type": "markdown",
      "metadata": {
        "id": "BP9NydrldiXc"
      },
      "source": [
        "**Prepare Data - Divide into training & testing**"
      ]
    },
    {
      "cell_type": "code",
      "metadata": {
        "colab": {
          "base_uri": "https://localhost:8080/"
        },
        "id": "SHtHLYU2cs7o",
        "outputId": "c40b49b0-5948-4d44-e48b-10023525ef36"
      },
      "source": [
        "#\n",
        "(x_train, y_train), (x_test, y_test) = fashion_mnist.load_data()"
      ],
      "execution_count": 3,
      "outputs": [
        {
          "output_type": "stream",
          "text": [
            "Downloading data from https://storage.googleapis.com/tensorflow/tf-keras-datasets/train-labels-idx1-ubyte.gz\n",
            "32768/29515 [=================================] - 0s 0us/step\n",
            "Downloading data from https://storage.googleapis.com/tensorflow/tf-keras-datasets/train-images-idx3-ubyte.gz\n",
            "26427392/26421880 [==============================] - 0s 0us/step\n",
            "Downloading data from https://storage.googleapis.com/tensorflow/tf-keras-datasets/t10k-labels-idx1-ubyte.gz\n",
            "8192/5148 [===============================================] - 0s 0us/step\n",
            "Downloading data from https://storage.googleapis.com/tensorflow/tf-keras-datasets/t10k-images-idx3-ubyte.gz\n",
            "4423680/4422102 [==============================] - 0s 0us/step\n"
          ],
          "name": "stdout"
        }
      ]
    },
    {
      "cell_type": "markdown",
      "metadata": {
        "id": "I97y4_K7fCgd"
      },
      "source": [
        "Name dataset classes"
      ]
    },
    {
      "cell_type": "code",
      "metadata": {
        "id": "MsnAHCpQeCAC"
      },
      "source": [
        "# Name dataset classes\n",
        "\n",
        "class_names = ['T-shirt/top', 'Trouser', 'Pullover', 'Dress', 'Coat', 'Sandal', 'Shirt', 'Sneaker', 'Bag', 'Ankle boot']"
      ],
      "execution_count": 5,
      "outputs": []
    },
    {
      "cell_type": "markdown",
      "metadata": {
        "id": "lBm1KWgKeoJd"
      },
      "source": [
        "Data Pre-processing"
      ]
    },
    {
      "cell_type": "code",
      "metadata": {
        "colab": {
          "base_uri": "https://localhost:8080/",
          "height": 265
        },
        "id": "4I777lcweqHa",
        "outputId": "a9a21876-8508-4928-e7da-9a0b7fa6eb65"
      },
      "source": [
        "# Data Pre-processing\n",
        "# View dataset images\n",
        "plt.figure()\n",
        "plt.imshow (x_train[3])\n",
        "plt.colorbar()\n",
        "plt.grid(False)"
      ],
      "execution_count": 6,
      "outputs": [
        {
          "output_type": "display_data",
          "data": {
            "image/png": "[encoded data removed]",
            "text/plain": [
              "<Figure size 432x288 with 2 Axes>"
            ]
          },
          "metadata": {
            "tags": [],
            "needs_background": "light"
          }
        }
      ]
    },
    {
      "cell_type": "markdown",
      "metadata": {
        "id": "Yol_CgEKf5FO"
      },
      "source": [
        "Data Normalization ( Convert color intensity to value between 0 - 1 )"
      ]
    },
    {
      "cell_type": "code",
      "metadata": {
        "id": "ycmVejf5fJFD"
      },
      "source": [
        "x_train = x_train / 255     # Divide training variable by maximum color intensity  (Convert from 0-255 to 0-1)\n",
        "x_test = x_test / 255       # Data normalization"
      ],
      "execution_count": 7,
      "outputs": []
    },
    {
      "cell_type": "code",
      "metadata": {
        "colab": {
          "base_uri": "https://localhost:8080/",
          "height": 269
        },
        "id": "oPncm195fJSx",
        "outputId": "629b4e61-2aa0-4a62-e4c6-47d5fa4673b8"
      },
      "source": [
        "# Re-view dataset images after Data normalization\n",
        "plt.figure()\n",
        "plt.imshow (x_train[3])\n",
        "plt.colorbar()\n",
        "plt.grid(False)"
      ],
      "execution_count": 8,
      "outputs": [
        {
          "output_type": "display_data",
          "data": {
            "image/png": "[encoded data removed]",
            "text/plain": [
              "<Figure size 432x288 with 2 Axes>"
            ]
          },
          "metadata": {
            "tags": [],
            "needs_background": "light"
          }
        }
      ]
    },
    {
      "cell_type": "code",
      "metadata": {
        "colab": {
          "base_uri": "https://localhost:8080/",
          "height": 589
        },
        "id": "yv3i2KuDgJdK",
        "outputId": "e978054d-f9d1-4415-85ac-6bc9fa5e1457"
      },
      "source": [
        "# Now let's verify the color intensity value for multiple images\n",
        "plt.figure(figsize= (10,10))\n",
        "\n",
        "for i in range(25):\n",
        "  plt.subplot(5,5,i+1)\n",
        "  plt.xticks([])\n",
        "  plt.yticks([])\n",
        "  plt.imshow(x_train[i])\n",
        "  plt.xlabel(class_names[y_train[i]])"
      ],
      "execution_count": 9,
      "outputs": [
        {
          "output_type": "display_data",
          "data": {
            "image/png": "[encoded data removed]",
            "text/plain": [
              "<Figure size 720x720 with 25 Axes>"
            ]
          },
          "metadata": {
            "tags": []
          }
        }
      ]
    },
    {
      "cell_type": "markdown",
      "metadata": {
        "id": "ZtDUObqQhNwH"
      },
      "source": [
        "**Create Neural Network**"
      ]
    },
    {
      "cell_type": "code",
      "metadata": {
        "id": "qaLt3H5IgJgr"
      },
      "source": [
        "# Creating the Neural Network\n",
        "\n",
        "model = keras.Sequential([\n",
        "                        keras.layers.Flatten(input_shape = (28,28)),            # Input Layer: converts image from 2D to 1D for analysis (image size is 28x28)\n",
        "                        keras.layers.Dense(128, activation = tf.nn.relu),       # Hidden Layer: # of neurons selection\n",
        "                        keras.layers.Dense(10, activation = tf.nn.softmax)    # Outout Layer: values coorespond to 10 possible items\n",
        "\n",
        "])"
      ],
      "execution_count": 12,
      "outputs": []
    },
    {
      "cell_type": "markdown",
      "metadata": {
        "id": "XVajJz2pjwBa"
      },
      "source": [
        "Model Compilation"
      ]
    },
    {
      "cell_type": "code",
      "metadata": {
        "id": "mSqm2CRMgJkL"
      },
      "source": [
        "# Model Compilation\n",
        "\n",
        "model.compile (optimizer = tf.keras.optimizers.SGD(), loss = 'sparse_categorical_crossentropy', metrics = ['accuracy'])    #SGD: Stotastic Gradient Descent"
      ],
      "execution_count": 21,
      "outputs": []
    },
    {
      "cell_type": "code",
      "metadata": {
        "colab": {
          "base_uri": "https://localhost:8080/"
        },
        "id": "Jx4rDZPOihgG",
        "outputId": "dd87aa00-fe5a-4fcf-9802-f1d2f13418aa"
      },
      "source": [
        "model.summary()"
      ],
      "execution_count": 22,
      "outputs": [
        {
          "output_type": "stream",
          "text": [
            "Model: \"sequential\"\n",
            "_________________________________________________________________\n",
            "Layer (type)                 Output Shape              Param #   \n",
            "=================================================================\n",
            "flatten_1 (Flatten)          (None, 784)               0         \n",
            "_________________________________________________________________\n",
            "dense_1 (Dense)              (None, 128)               100480    \n",
            "_________________________________________________________________\n",
            "dense_2 (Dense)              (None, 10)                1290      \n",
            "=================================================================\n",
            "Total params: 101,770\n",
            "Trainable params: 101,770\n",
            "Non-trainable params: 0\n",
            "_________________________________________________________________\n"
          ],
          "name": "stdout"
        }
      ]
    },
    {
      "cell_type": "markdown",
      "metadata": {
        "id": "dmqDE8MZj289"
      },
      "source": [
        "**Train the Neural Network**"
      ]
    },
    {
      "cell_type": "code",
      "metadata": {
        "colab": {
          "base_uri": "https://localhost:8080/"
        },
        "id": "K_MmJtAGihkl",
        "outputId": "f76e53b3-1192-4637-e12f-6d654b154883"
      },
      "source": [
        "# Train the model\n",
        "\n",
        "model.fit(x_train, y_train, epochs = 10)        # Our model will go through 10 iterations (60K images X 10 epochs)"
      ],
      "execution_count": 23,
      "outputs": [
        {
          "output_type": "stream",
          "text": [
            "Epoch 1/10\n",
            "1875/1875 [==============================] - 5s 2ms/step - loss: 0.9953 - accuracy: 0.6839\n",
            "Epoch 2/10\n",
            "1875/1875 [==============================] - 4s 2ms/step - loss: 0.5310 - accuracy: 0.8204\n",
            "Epoch 3/10\n",
            "1875/1875 [==============================] - 4s 2ms/step - loss: 0.4759 - accuracy: 0.8365\n",
            "Epoch 4/10\n",
            "1875/1875 [==============================] - 4s 2ms/step - loss: 0.4508 - accuracy: 0.8452\n",
            "Epoch 5/10\n",
            "1875/1875 [==============================] - 4s 2ms/step - loss: 0.4338 - accuracy: 0.8474\n",
            "Epoch 6/10\n",
            "1875/1875 [==============================] - 4s 2ms/step - loss: 0.4187 - accuracy: 0.8528\n",
            "Epoch 7/10\n",
            "1875/1875 [==============================] - 4s 2ms/step - loss: 0.4039 - accuracy: 0.8595\n",
            "Epoch 8/10\n",
            "1875/1875 [==============================] - 4s 2ms/step - loss: 0.3945 - accuracy: 0.8626\n",
            "Epoch 9/10\n",
            "1875/1875 [==============================] - 4s 2ms/step - loss: 0.3846 - accuracy: 0.8670\n",
            "Epoch 10/10\n",
            "1875/1875 [==============================] - 4s 2ms/step - loss: 0.3758 - accuracy: 0.8687\n"
          ],
          "name": "stdout"
        },
        {
          "output_type": "execute_result",
          "data": {
            "text/plain": [
              "<tensorflow.python.keras.callbacks.History at 0x7f166e076410>"
            ]
          },
          "metadata": {
            "tags": []
          },
          "execution_count": 23
        }
      ]
    },
    {
      "cell_type": "markdown",
      "metadata": {
        "id": "p11z0-Sek-JY"
      },
      "source": [
        "**Check Prediction Accuracy for Test Sample**"
      ]
    },
    {
      "cell_type": "code",
      "metadata": {
        "colab": {
          "base_uri": "https://localhost:8080/"
        },
        "id": "QGTik498k8PY",
        "outputId": "aada1aeb-8300-488e-89c5-0a8f5ceefe13"
      },
      "source": [
        "test_loss, test_acc = model.evaluate (x_test, y_test)\n",
        "print ('Test Accuracy: ', test_acc)"
      ],
      "execution_count": 24,
      "outputs": [
        {
          "output_type": "stream",
          "text": [
            "313/313 [==============================] - 1s 1ms/step - loss: 0.4385 - accuracy: 0.8475\n",
            "Test Accuracy:  0.8475000262260437\n"
          ],
          "name": "stdout"
        }
      ]
    },
    {
      "cell_type": "markdown",
      "metadata": {
        "id": "EwNxKLrMlZA-"
      },
      "source": [
        "**Model Predictions**"
      ]
    },
    {
      "cell_type": "code",
      "metadata": {
        "id": "8WYXYUA2lZjT"
      },
      "source": [
        "# Instantiate prediction variable\n",
        "\n",
        "predictions = model.predict(x_train)"
      ],
      "execution_count": 25,
      "outputs": []
    },
    {
      "cell_type": "code",
      "metadata": {
        "colab": {
          "base_uri": "https://localhost:8080/"
        },
        "id": "kx8gqOm4lZmT",
        "outputId": "d58cc98a-01a4-4d73-f999-5c20db9a7396"
      },
      "source": [
        "# Use neural network to determine what 'image 0' is\n",
        "\n",
        "predictions[14]        # This will display the propability for all 10 item outcomes"
      ],
      "execution_count": 32,
      "outputs": [
        {
          "output_type": "execute_result",
          "data": {
            "text/plain": [
              "array([1.0629424e-05, 2.1230006e-05, 4.2406049e-05, 4.0438597e-05,\n",
              "       8.8553952e-06, 1.0912411e-02, 1.5533493e-05, 9.8807973e-01,\n",
              "       2.3733266e-04, 6.3151971e-04], dtype=float32)"
            ]
          },
          "metadata": {
            "tags": []
          },
          "execution_count": 32
        }
      ]
    },
    {
      "cell_type": "code",
      "metadata": {
        "colab": {
          "base_uri": "https://localhost:8080/"
        },
        "id": "XxcMjJCGmXke",
        "outputId": "95523f40-5ae9-47f7-cc44-9230e23726d8"
      },
      "source": [
        "# Display only the top probability outcome (class #)\n",
        "\n",
        "np.argmax(predictions[14])"
      ],
      "execution_count": 33,
      "outputs": [
        {
          "output_type": "execute_result",
          "data": {
            "text/plain": [
              "7"
            ]
          },
          "metadata": {
            "tags": []
          },
          "execution_count": 33
        }
      ]
    },
    {
      "cell_type": "markdown",
      "metadata": {
        "id": "WtrfRF1Fm1rd"
      },
      "source": [
        "**Verify Model Prediction on Actual Result**"
      ]
    },
    {
      "cell_type": "code",
      "metadata": {
        "colab": {
          "base_uri": "https://localhost:8080/"
        },
        "id": "0ew6zOE_mqaj",
        "outputId": "00376d7e-c2b2-4b86-cec8-d3ef571e8558"
      },
      "source": [
        "# Check expected outcome based on the above prediction (class #)\n",
        "\n",
        "y_train[14]"
      ],
      "execution_count": 34,
      "outputs": [
        {
          "output_type": "execute_result",
          "data": {
            "text/plain": [
              "7"
            ]
          },
          "metadata": {
            "tags": []
          },
          "execution_count": 34
        }
      ]
    },
    {
      "cell_type": "code",
      "metadata": {
        "colab": {
          "base_uri": "https://localhost:8080/",
          "height": 269
        },
        "id": "pxJ4bd5Dmqgh",
        "outputId": "e7c24db1-8db0-4071-d3af-b38be986f0f8"
      },
      "source": [
        "# Verify Model by viewing the predicted image\n",
        "plt.figure()\n",
        "plt.imshow (x_train[14])\n",
        "plt.colorbar()\n",
        "plt.grid(False)"
      ],
      "execution_count": 36,
      "outputs": [
        {
          "output_type": "display_data",
          "data": {
            "image/png": "[encoded data removed]",
            "text/plain": [
              "<Figure size 432x288 with 2 Axes>"
            ]
          },
          "metadata": {
            "tags": [],
            "needs_background": "light"
          }
        }
      ]
    },
    {
      "cell_type": "code",
      "metadata": {
        "colab": {
          "base_uri": "https://localhost:8080/",
          "height": 35
        },
        "id": "wEH4G8-Amqjw",
        "outputId": "6e4a93f0-6fae-4869-a802-5505ebeefd9e"
      },
      "source": [
        "# Display output class name versus index #\n",
        "\n",
        "class_names [np.argmax(predictions[14])]"
      ],
      "execution_count": 37,
      "outputs": [
        {
          "output_type": "execute_result",
          "data": {
            "application/vnd.google.colaboratory.intrinsic+json": {
              "type": "string"
            },
            "text/plain": [
              "'Sneaker'"
            ]
          },
          "metadata": {
            "tags": []
          },
          "execution_count": 37
        }
      ]
    }
  ]
}