{
  "nbformat": 4,
  "nbformat_minor": 0,
  "metadata": {
    "colab": {
      "name": "Python Basics Two.ipynb",
      "provenance": [],
      "collapsed_sections": [],
      "authorship_tag": "ABX9TyOR0RtwRssljjVFTpuXHbPF",
      "include_colab_link": true
    },
    "kernelspec": {
      "name": "python3",
      "display_name": "Python 3"
    },
    "language_info": {
      "name": "python"
    }
  },
  "cells": [
    {
      "cell_type": "markdown",
      "metadata": {
        "id": "view-in-github",
        "colab_type": "text"
      },
      "source": [
        "<a href=\"https://colab.research.google.com/github/nkaraffa/Intro-to-AI-Machine-Learning-and-Python-basics/blob/main/Python_Basics_Two.ipynb\" target=\"_parent\"><img src=\"https://colab.research.google.com/assets/colab-badge.svg\" alt=\"Open In Colab\"/></a>"
      ]
    },
    {
      "cell_type": "markdown",
      "metadata": {
        "id": "6udH2rk9VmHQ"
      },
      "source": [
        "# **Control Flow Statements / operators**\n",
        "\n",
        "*   If / Else\n",
        "*   While\n",
        "*   For\n"
      ]
    },
    {
      "cell_type": "markdown",
      "metadata": {
        "id": "26xijfqKWIax"
      },
      "source": [
        "# **If / Else Operator**"
      ]
    },
    {
      "cell_type": "code",
      "metadata": {
        "colab": {
          "base_uri": "https://localhost:8080/"
        },
        "id": "q005k08uVlle",
        "outputId": "6e18d1f4-d7e9-4b40-8ad2-09dbc5e204e9"
      },
      "source": [
        "# Basic if-else statement creation\n",
        "num = 55\n",
        "\n",
        "if num % 2 == 0:\n",
        "  print (\"The number is even\")\n",
        "else:\n",
        "  print (\"The number is odd\")"
      ],
      "execution_count": null,
      "outputs": [
        {
          "output_type": "stream",
          "text": [
            "The number is odd\n"
          ],
          "name": "stdout"
        }
      ]
    },
    {
      "cell_type": "code",
      "metadata": {
        "colab": {
          "base_uri": "https://localhost:8080/"
        },
        "id": "9SCKkeAHWtSK",
        "outputId": "8b868a87-cff2-4d2e-97ea-6f284d8687d6"
      },
      "source": [
        "# If-else with print formatting example\n",
        "num = 101\n",
        "\n",
        "if num % 2 == 0:\n",
        "  print (\"The number {} is even\".format(num))\n",
        "else:\n",
        "  print (f\"The number {num} is odd\")"
      ],
      "execution_count": null,
      "outputs": [
        {
          "output_type": "stream",
          "text": [
            "The number 101 is odd\n"
          ],
          "name": "stdout"
        }
      ]
    },
    {
      "cell_type": "code",
      "metadata": {
        "colab": {
          "base_uri": "https://localhost:8080/"
        },
        "id": "z73ldjSVXIcu",
        "outputId": "6e3d8cdc-a832-45fa-ca1e-d4b2b13aa0f5"
      },
      "source": [
        "# 'elif' - similar to nested 'else if' in C#.  It will only run if the previous line's condition is met\n",
        "num = 0\n",
        "\n",
        "if num == 0:\n",
        "  print(\"You input 0. Please enter another number.\")\n",
        "elif num % 2 == 0:\n",
        "  print (\"The number {} is even\".format(num))\n",
        "else:\n",
        "  print (f\"The number {num} is odd\")"
      ],
      "execution_count": null,
      "outputs": [
        {
          "output_type": "stream",
          "text": [
            "You input 0. Please enter another number.\n"
          ],
          "name": "stdout"
        }
      ]
    },
    {
      "cell_type": "markdown",
      "metadata": {
        "id": "19vmvqA7Y5vn"
      },
      "source": [
        "**Challenge**\n",
        "\n",
        "Task 1 (Speed Trap):\n",
        "*   If speed is =< 60 then \"Be careful on this road\"\n",
        "*   If speed is > 60 then \"Please slow down. Follow the speed limit\"\n",
        "\n",
        "Task 2 (ID Check):\n",
        "*   If ID age is < 21 then \"I cannot sell you alcohol\"\n",
        "*   If ID age is >= 21 then \"I can sell you alcohol\"\n",
        "\n"
      ]
    },
    {
      "cell_type": "code",
      "metadata": {
        "colab": {
          "base_uri": "https://localhost:8080/"
        },
        "id": "Xit53dsWZhex",
        "outputId": "966be69d-7fdb-498c-ca37-d7a8c83ca655"
      },
      "source": [
        "# Task 1 Code\n",
        "speed = 75\n",
        "\n",
        "if speed == 0 | speed <= 0:                 #If statement with conditional 'or' check\n",
        "  print (\"Check your speed gauge again\")\n",
        "elif speed <= 60:\n",
        "  print(\"Be careful on this road\")\n",
        "else:\n",
        "  print (\"Please slow down. Follow the speed limit\")"
      ],
      "execution_count": null,
      "outputs": [
        {
          "output_type": "stream",
          "text": [
            "Please slow down. Follow the speed limit\n"
          ],
          "name": "stdout"
        }
      ]
    },
    {
      "cell_type": "code",
      "metadata": {
        "colab": {
          "base_uri": "https://localhost:8080/"
        },
        "id": "fZjFjwcua-LR",
        "outputId": "a273410e-0177-49ff-a1b9-f7cce5342047"
      },
      "source": [
        "#Task 2 Code\n",
        "age = 18\n",
        "\n",
        "if age <= 0 :\n",
        "  print (\"Please enter a valid age\")\n",
        "elif age < 21:\n",
        "  print(\"I cannot sell you alcohol\")\n",
        "elif age >= 21:\n",
        "  print(\"I can sell you alcohol\")"
      ],
      "execution_count": null,
      "outputs": [
        {
          "output_type": "stream",
          "text": [
            "I cannot sell you alcohol\n"
          ],
          "name": "stdout"
        }
      ]
    },
    {
      "cell_type": "markdown",
      "metadata": {
        "id": "_1pz9cPqcWnc"
      },
      "source": [
        "# **While Operator**"
      ]
    },
    {
      "cell_type": "code",
      "metadata": {
        "id": "SouG6uIVcePD"
      },
      "source": [
        "# Basic While Loop\n",
        "num = 1\n",
        "while num <= 10:\n",
        "  print(num)\n",
        "  num += 1"
      ],
      "execution_count": null,
      "outputs": []
    },
    {
      "cell_type": "code",
      "metadata": {
        "id": "IM79HAmDJkwJ"
      },
      "source": [
        "# While loop that prints only even numbers and decrements the variable to 0\n",
        "num = 50\n",
        "while num >= 0:\n",
        "  if num % 2 == 0:\n",
        "    print(num)\n",
        "  num -= 1"
      ],
      "execution_count": null,
      "outputs": []
    },
    {
      "cell_type": "markdown",
      "metadata": {
        "id": "qk_zgjMyNKAO"
      },
      "source": [
        "**'Break' Keyword**"
      ]
    },
    {
      "cell_type": "code",
      "metadata": {
        "id": "IaVx5vsxK7BJ"
      },
      "source": [
        "# 'Break' Keyword  - causes the current logic loop to stop\n",
        "\n",
        "num = 1\n",
        "while True:\n",
        "  print (num)\n",
        "  num += 1\n",
        "  if num == 4:\n",
        "    break\n",
        "\n",
        "print(\"While Loop Complete\")"
      ],
      "execution_count": null,
      "outputs": []
    },
    {
      "cell_type": "markdown",
      "metadata": {
        "id": "Hvz7NEJkNS5o"
      },
      "source": [
        "**'Input' Function**"
      ]
    },
    {
      "cell_type": "code",
      "metadata": {
        "colab": {
          "base_uri": "https://localhost:8080/"
        },
        "id": "QLGNgXnmMAaE",
        "outputId": "8201b02c-0aa8-42d1-905a-6e1a6cecb12a"
      },
      "source": [
        "# 'Input' Function\n",
        "\n",
        "modelNum = 5\n",
        "while True:\n",
        "  if modelNum == 10:\n",
        "    break\n",
        "  modelNum = int (input(\"Guess the model number: \"))      #Allows the User to input values into our program\n",
        "print(\"You have selected the correct model.\")"
      ],
      "execution_count": 10,
      "outputs": [
        {
          "output_type": "stream",
          "text": [
            "Guess the model number: 15\n",
            "Guess the model number: 10\n",
            "You have selected the correct model.\n"
          ],
          "name": "stdout"
        }
      ]
    },
    {
      "cell_type": "markdown",
      "metadata": {
        "id": "zdWzhv8qNi8P"
      },
      "source": [
        "**Challenge Two**\n",
        "\n",
        "Task 1 (Password Check):\n",
        "\n",
        "*   Use a while loop to create continuosly prompt the User for the correct login password info.  \n"
      ]
    },
    {
      "cell_type": "code",
      "metadata": {
        "colab": {
          "base_uri": "https://localhost:8080/"
        },
        "id": "OPEAc3D2N_b8",
        "outputId": "737622e7-1f0c-4d8b-b052-3eec962171a4"
      },
      "source": [
        "# Task 1 Code\n",
        "pass1 = \"none\"\n",
        "\n",
        "while pass1 != \"passCheck\":\n",
        "  pass1 = str(input(\"Please enter your login password: \"))\n",
        "\n",
        "print(\"Password successfully entered.  Welcome!\")\n"
      ],
      "execution_count": 19,
      "outputs": [
        {
          "output_type": "stream",
          "text": [
            "Please enter your login password: none\n",
            "Please enter your login password: ne\n",
            "Please enter your login password: new\n",
            "Please enter your login password: passCheck\n",
            "Password successfully Entered.  Welcome!\n"
          ],
          "name": "stdout"
        }
      ]
    }
  ]
}